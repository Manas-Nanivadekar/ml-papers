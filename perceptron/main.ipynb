{
 "cells": [
  {
   "cell_type": "code",
   "execution_count": 4,
   "id": "14dd8f6f",
   "metadata": {},
   "outputs": [],
   "source": [
    "import numpy as np\n",
    "\n",
    "def random_weights(X, random_state: int):\n",
    "    '''create vector of random weights\n",
    "    Parameters\n",
    "    ----------\n",
    "    X: 2-dimensional array, shape = [n_samples, n_features]\n",
    "    Returns\n",
    "    -------\n",
    "    w: array, shape = [w_bias + n_features]'''\n",
    "    rand = np.random.RandomState(random_state)\n",
    "    w = rand.normal(loc=0.0, scale=0.01, size=1 + X.shape[1])\n",
    "    return w"
   ]
  },
  {
   "cell_type": "code",
   "execution_count": null,
   "id": "08dedbe8",
   "metadata": {},
   "outputs": [],
   "source": [
    "def net_input(X, w):\n",
    "    '''Compute net input as dot product'''\n",
    "    return np.dot(X, w[1:]) + w[0]"
   ]
  }
 ],
 "metadata": {
  "kernelspec": {
   "display_name": ".venv",
   "language": "python",
   "name": "python3"
  },
  "language_info": {
   "codemirror_mode": {
    "name": "ipython",
    "version": 3
   },
   "file_extension": ".py",
   "mimetype": "text/x-python",
   "name": "python",
   "nbconvert_exporter": "python",
   "pygments_lexer": "ipython3",
   "version": "3.12.11"
  }
 },
 "nbformat": 4,
 "nbformat_minor": 5
}
